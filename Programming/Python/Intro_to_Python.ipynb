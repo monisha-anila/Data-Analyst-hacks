{
  "nbformat": 4,
  "nbformat_minor": 0,
  "metadata": {
    "colab": {
      "provenance": []
    },
    "kernelspec": {
      "name": "python3",
      "display_name": "Python 3"
    },
    "language_info": {
      "name": "python"
    }
  },
  "cells": [
    {
      "cell_type": "markdown",
      "source": [
        "**Credits: All members of python community**"
      ],
      "metadata": {
        "id": "n0BREivVRC8m"
      }
    },
    {
      "cell_type": "markdown",
      "source": [
        "# Introduction"
      ],
      "metadata": {
        "id": "oNtnZXT6rhrx"
      }
    },
    {
      "cell_type": "markdown",
      "source": [
        "**Why learn Python?**\n",
        "\n",
        "- Python is a general-purpose, high-level language.\n",
        "- Its vast amount of libraries make it flexible to use in Data Science.\n",
        "\n",
        "**Advantages:**\n",
        "- Interpreted: Directly run the code from the source.\n",
        "- Platform independent\n",
        "- Open source: Free to use\n",
        "- High level: No need to worry about managing memory details, etc.\n",
        "- Embedded: Can be used within C/C++"
      ],
      "metadata": {
        "id": "QJbcm4a0Mr8h"
      }
    },
    {
      "cell_type": "markdown",
      "source": [
        "# Variables reserved"
      ],
      "metadata": {
        "id": "F4giycferoqb"
      }
    },
    {
      "cell_type": "code",
      "execution_count": null,
      "metadata": {
        "colab": {
          "base_uri": "https://localhost:8080/"
        },
        "id": "vXURPiwrLl3B",
        "outputId": "498891c2-8740-4c6f-927d-3e95d10ae95b"
      },
      "outputs": [
        {
          "output_type": "stream",
          "name": "stdout",
          "text": [
            "Keywords reserved in Python are: ['False', 'None', 'True', 'and', 'as', 'assert', 'async', 'await', 'break', 'class', 'continue', 'def', 'del', 'elif', 'else', 'except', 'finally', 'for', 'from', 'global', 'if', 'import', 'in', 'is', 'lambda', 'nonlocal', 'not', 'or', 'pass', 'raise', 'return', 'try', 'while', 'with', 'yield']\n"
          ]
        }
      ],
      "source": [
        "#Key words in Python reserved for it's built-in usage\n",
        "\n",
        "import keyword\n",
        "print(\"Keywords reserved in Python are:\",keyword.kwlist)"
      ]
    },
    {
      "cell_type": "markdown",
      "source": [
        "# Namespaces - Global and Local"
      ],
      "metadata": {
        "id": "T_6C-ZVjrzhN"
      }
    },
    {
      "cell_type": "code",
      "source": [
        "# var1 is in the global namespace\n",
        "var1 = 5\n",
        "\n",
        "def some_func():\n",
        "  var2 = 6\n",
        "  return var2\n",
        "\n",
        "print(var1)\n",
        "print(some_func())\n",
        "#print(var2) # Can't access local space like global space"
      ],
      "metadata": {
        "colab": {
          "base_uri": "https://localhost:8080/"
        },
        "id": "w1YQd9uKdnPX",
        "outputId": "52e1bbd4-c98e-4a78-9cdd-ac79b30c0920"
      },
      "execution_count": null,
      "outputs": [
        {
          "output_type": "stream",
          "name": "stdout",
          "text": [
            "5\n",
            "6\n"
          ]
        }
      ]
    },
    {
      "cell_type": "markdown",
      "source": [
        "# Comments"
      ],
      "metadata": {
        "id": "C_PraZ25r0bj"
      }
    },
    {
      "cell_type": "markdown",
      "source": [
        "**Difference Between ‘Docstrings’ and ‘Multi-line Comments?**\n",
        "\n",
        "- Docstrings are written in the functions and classes to show how to use the program.\n",
        "- Multi-line comments are used to show how a block of code works."
      ],
      "metadata": {
        "id": "j7fMQ2AhfD6J"
      }
    },
    {
      "cell_type": "markdown",
      "source": [
        "# Variables assignments"
      ],
      "metadata": {
        "id": "HBROG5jIsBcX"
      }
    },
    {
      "cell_type": "code",
      "source": [
        "## Variable assignment in Python\n",
        "\n",
        "direct = 7\n",
        "print(direct)\n",
        "\n",
        "indirect = 1 if 5>3 else 0\n",
        "print(indirect)\n",
        "\n",
        "a,b,c = 5,\"bag\",{'key':'value'}\n",
        "print(a)\n",
        "print(b)\n",
        "print(c)"
      ],
      "metadata": {
        "colab": {
          "base_uri": "https://localhost:8080/"
        },
        "id": "vLmGMVBXp0MK",
        "outputId": "263297f3-b10d-4fa3-d1a0-5f54fd540630"
      },
      "execution_count": null,
      "outputs": [
        {
          "output_type": "stream",
          "name": "stdout",
          "text": [
            "7\n",
            "1\n",
            "5\n",
            "bag\n",
            "{'key': 'value'}\n"
          ]
        }
      ]
    },
    {
      "cell_type": "markdown",
      "source": [
        "# Input and Output"
      ],
      "metadata": {
        "id": "fN3Zztw1sGKy"
      }
    },
    {
      "cell_type": "code",
      "source": [
        "#Multiple inputs\n",
        "\n",
        "v1,v2,v3 = [int(x) for x in input(\"Enter the input\").split(\",\")]\n",
        "v3"
      ],
      "metadata": {
        "id": "pcYYRY1LrLeM",
        "colab": {
          "base_uri": "https://localhost:8080/"
        },
        "outputId": "33dea1f5-652d-4d42-ff0b-0f4d6f46440c"
      },
      "execution_count": null,
      "outputs": [
        {
          "name": "stdout",
          "output_type": "stream",
          "text": [
            "Enter the input1,2,3\n"
          ]
        },
        {
          "output_type": "execute_result",
          "data": {
            "text/plain": [
              "3"
            ]
          },
          "metadata": {},
          "execution_count": 10
        }
      ]
    },
    {
      "cell_type": "code",
      "source": [
        "#Output format\n",
        "v3=3\n",
        "print('1+2={0}'.format(v3))"
      ],
      "metadata": {
        "colab": {
          "base_uri": "https://localhost:8080/"
        },
        "id": "c-AwmWxfM4ZD",
        "outputId": "7dba3388-7ced-41dc-9dbb-1513142a8903"
      },
      "execution_count": null,
      "outputs": [
        {
          "output_type": "stream",
          "name": "stdout",
          "text": [
            "1+2=3\n"
          ]
        }
      ]
    }
  ]
}