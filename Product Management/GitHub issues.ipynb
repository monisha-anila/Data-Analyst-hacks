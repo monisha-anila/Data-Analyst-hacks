{
 "cells": [
  {
   "cell_type": "code",
   "execution_count": null,
   "metadata": {},
   "outputs": [],
   "source": [
    "# Import standard libraries for data manipulation and also for Postgres \n",
    "\n",
    "import requests\n",
    "import pandas as pd\n",
    "import json\n",
    "from pandas import json_normalize\n",
    "import numpy as np\n",
    "import sqlalchemy \n",
    "import psycopg2"
   ]
  },
  {
   "cell_type": "code",
   "execution_count": null,
   "metadata": {},
   "outputs": [],
   "source": [
    "github_api = \"https://api.github.com\"\n",
    "gh_session = requests.Session()\n",
    "gh_session.auth = ('username', 'API token')"
   ]
  },
  {
   "cell_type": "code",
   "execution_count": null,
   "metadata": {},
   "outputs": [],
   "source": [
    "headers = {\n",
    "             'Authorization': 'Token <API token>'\n",
    "          }   "
   ]
  },
  {
   "cell_type": "code",
   "execution_count": null,
   "metadata": {},
   "outputs": [],
   "source": [
    "def issues_of_repo_github(repo, owner, api):  #iterate through pages of respnse and append to issues\n",
    "    issues = []\n",
    "    next = True\n",
    "    i = 1\n",
    "    while next == True:\n",
    "        url = api + '/repos/{}/{}/issues?page={}&per_page=100'.format(owner, repo, i)  #set page number\n",
    "        issue_pg = gh_session.get(url = url,headers=headers,params=params)             # same as requests.get   \n",
    "        issue_pg_list = [dict(item, **{'repo_name':'{}'.format(repo)}) for item in issue_pg.json()]   #simply unpacking json. json_normalize can be used here\n",
    "        issue_pg_list = [dict(item, **{'owner':'{}'.format(owner)}) for item in issue_pg_list]        #\n",
    "        issues = issues + issue_pg_list\n",
    "        if 'Link' in issue_pg.headers: # if there exists another page then increment i or else dont\n",
    "            if 'rel=\"next\"' not in issue_pg.headers['Link']:\n",
    "                next = False\n",
    "        i = i + 1\n",
    "    return issues"
   ]
  },
  {
   "cell_type": "code",
   "execution_count": null,
   "metadata": {},
   "outputs": [],
   "source": [
    "def create_issues_df(repo, owner, api): #normalize json response to flat table \n",
    "    issues_list = issues_of_repo_github(repo, owner, api)\n",
    "    return json_normalize(issues_list)"
   ]
  },
  {
   "cell_type": "code",
   "execution_count": null,
   "metadata": {},
   "outputs": [],
   "source": [
    "def to_1D(series):\n",
    "    return pd.Series([x for _list in series for x in _list])"
   ]
  },
  {
   "cell_type": "code",
   "execution_count": null,
   "metadata": {},
   "outputs": [],
   "source": [
    "def boolean_df(item_lists, unique_items):\n",
    "# Create empty dict\n",
    "    bool_dict = {}\n",
    "    \n",
    "    # Loop through all the tags\n",
    "    for i, item in enumerate(unique_items):\n",
    "        \n",
    "        # Apply boolean mask\n",
    "        bool_dict[item] = item_lists.apply(lambda x: item in x)\n",
    "            \n",
    "    # Return the results as a dataframe\n",
    "    return pd.DataFrame(bool_dict)"
   ]
  },
  {
   "cell_type": "code",
   "execution_count": null,
   "metadata": {},
   "outputs": [],
   "source": [
    "%%time\n",
    "\n",
    "repos=['reponame'] # mention repos you want to pull here\n",
    "for r in repos:\n",
    "    \n",
    "    params = (\n",
    "            ('type','issue'),\n",
    "            ('state','all'),\n",
    "            ('headers',headers)\n",
    "        )\n",
    "    issues = create_issues_df(r, 'company', github_api)"
   ]
  },
  {
   "cell_type": "code",
   "execution_count": null,
   "metadata": {},
   "outputs": [],
   "source": [
    "issues['labels_name'] = issues['labels'].apply(lambda x: [y['name'] for y in x]) # extract lables from nested json "
   ]
  },
  {
   "cell_type": "code",
   "execution_count": null,
   "metadata": {},
   "outputs": [],
   "source": [
    "issues = issues.filter(['url','id', 'node_id', 'number', 'title', 'labels_name', 'state','created_at',\n",
    "       'updated_at', 'closed_at', 'author_association','repo_name', 'owner', 'user.login',\n",
    "       'user.id','user.type','assignee.login', 'assignee.id','assignee.type']) # Get desired columns only\n",
    "issues"
   ]
  },
  {
   "cell_type": "code",
   "execution_count": null,
   "metadata": {},
   "outputs": [],
   "source": [
    "unique_items = to_1D(issues[\"labels_name\"]).value_counts() # Convert list to series\n",
    "\n",
    "labels_bool = boolean_df(issues[\"labels_name\"],unique_items.keys()) # Create a column for each label to that issue\n",
    "\n",
    "issues = issues.join(labels_bool) # Join lables data to main\n",
    "issues"
   ]
  },
  {
   "cell_type": "code",
   "execution_count": null,
   "metadata": {},
   "outputs": [],
   "source": [
    "%%time\n",
    "\n",
    "import sqlalchemy \n",
    "import psycopg2\n",
    "engine = sqlalchemy.create_engine('postgres://username:password@ Server name:port/database name',\n",
    "                                 use_batch_mode=True) \n",
    "con = engine.connect() #connect to pgsql db \n",
    "table_name='table' #set tablename \n",
    "issues.to_sql(table_name,con,if_exists='replace',index=False) #append data to table , replace earlier table with same name , if any\n"
   ]
  }
 ],
 "metadata": {
  "kernelspec": {
   "display_name": "Python 3",
   "language": "python",
   "name": "python3"
  },
  "language_info": {
   "codemirror_mode": {
    "name": "ipython",
    "version": 3
   },
   "file_extension": ".py",
   "mimetype": "text/x-python",
   "name": "python",
   "nbconvert_exporter": "python",
   "pygments_lexer": "ipython3",
   "version": "3.8.5"
  }
 },
 "nbformat": 4,
 "nbformat_minor": 4
}
